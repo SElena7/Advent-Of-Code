{
 "cells": [
  {
   "cell_type": "code",
   "execution_count": 12,
   "id": "1f028660",
   "metadata": {},
   "outputs": [
    {
     "name": "stdout",
     "output_type": "stream",
     "text": [
      "['eight', '1', 'one']\n",
      "eighttjzqzhrllg1oneighttfck\n",
      "eighttjzqzhrllg1oneeighttfck\n",
      "['eight', '1', 'one', 'eight']\n"
     ]
    }
   ],
   "source": []
  },
  {
   "cell_type": "code",
   "execution_count": 15,
   "id": "72436127",
   "metadata": {},
   "outputs": [
    {
     "name": "stdout",
     "output_type": "stream",
     "text": [
      "['eight', '1', 'one', 'eight']\n"
     ]
    }
   ],
   "source": [
    "import re\n",
    "\n",
    "def process_and_update_string(input_str):\n",
    "    regex = re.compile(r'[0-9]|(?:one|two|three|four|five|six|seven|eight|nine)', re.IGNORECASE)\n",
    "\n",
    "    matches = regex.findall(input_str) \n",
    "\n",
    "    for match in matches:\n",
    "        if not match.isdigit():\n",
    "            input_str = input_str.replace(match, match + match[-1])\n",
    "\n",
    "    updated_matches = regex.findall(input_str)\n",
    "    return updated_matches\n",
    "\n",
    "# Example\n",
    "input_string = \"eightjzqzhrllg1oneightfck\"\n",
    "print(process_and_update_string(input_string))\n"
   ]
  },
  {
   "cell_type": "code",
   "execution_count": 19,
   "id": "40787a1e",
   "metadata": {},
   "outputs": [
    {
     "name": "stdout",
     "output_type": "stream",
     "text": [
      "['eightnine', 'three6', '55', '72', 'two1', 'threefour', '11', 'three5', '3two', 'five3', '41', 'six5', '5five', 'four5', 'eighteight', '67', 'seven5', '66', '5four', '9five', 'one4', '12', 'three6', 'threethree', '8one', '22', 'four5', 'fivethree', 'one9', 'six8', 'nineseven', '8one', 'four1', '1five', 'one2', 'seventhree', '47', 'seven4', '37', '9nine', '3three', 'four3', '51', '8nine', '3five', 'sevenfour', '16', '6one', '4six', '77', 'threeeight', '39', 'oneseven', 'onefour', '24', 'twoone', 'sevenfive', '5nine', '35', '8seven', '4one', '1one', '5one', '49', '1one', 'five7', 'sevenone', 'eight2', '44', 'ninesix', '1one', '75', '17', 'three3', '33', '78', 'seven6', '13', '8nine', '4five', 'oneeight', '2six', '88', 'fourthree', 'two1', '5four', '24', 'two7', 'six3', '65', '7four', '4one', '62', 'six1', '1eight', 'four2', '56', '1one', '77', 'four5', 'fourtwo', 'four4', '34', '7six', '98', '28', '88', 'five3', 'five4', 'twothree', '11', 'fournine', '23', 'seven8', '2four', '9four', 'eight6', '59', 'seventhree', '8one', '95', '56', '6four', 'three5', '92', '41', '7five', 'five6', '89', 'foursix', 'six7', '55', 'three5', '8six', '42', 'fivesix', 'ninesix', '44', '2five', 'sixtwo', '4one', '1five', '64', 'five1', 'one1', 'five6', 'eight6', '29', 'three5', '8one', '3eight', 'onenine', '85', 'ninefive', 'four2', '45', 'five9', 'sixeight', 'nineseven', 'sixfour', '6one', 'fourfour', '29', '6five', '8eight', 'eight8', 'seven5', 'three9', '74', 'eight3', 'twoone', '4four', '35', 'one5', '31', 'five1', '83', '59', '91', '64', '3one', 'nine1', '2eight', 'two6', '55', '17', '8four', '16', 'three2', '2one', '99', 'sixfive', '9nine', 'eightseven', '7seven', 'threefive', '6two', 'six2', '56', '63', 'sixtwo', '21', 'fourfour', '88', '83', '94', '87', 'threeseven', 'eight3', 'four3', 'four6', '4two', '93', '1two', 'nine8', '5nine', 'one5', 'four1', '83', 'eight3', '41', '52', '4six', '58', 'three8', 'threeeight', 'fourone', '15', 'foureight', 'sixone', '89', 'six4', '46', '9one', '18', '3four', '23', 'nineseven', '69', '61', '1two', '32', '41', 'sevennine', '1nine', '46', '46', '56', '9two', '2five', 'sixtwo', '88', '4four', 'eightnine', '71', '83', '31', 'two6', '5four', '59', 'threethree', 'six1', '4eight', 'one2', '68', '8one', '22', '7two', 'foursix', '8three', '83', '6nine', 'three5', 'eightthree', 'seven3', '9eight', 'three3', '84', 'twofive', 'three2', 'seven4', 'oneseven', '77', '3one', 'fivefour', '1seven', '13', 'seven2', '78', 'six4', 'six2', 'threesix', 'three8', 'one8', 'three1', '13', '46', '96', '7four', 'six1', 'eightseven', '7three', 'three1', '2two', 'six1', '75', 'five1', 'two3', '65', 'threefive', '3five', 'one9', '8nine', '3six', '8eight', '6seven', '33', '3seven', 'eightone', 'four8', '1two', '85', '3eight', '1nine', '44', '55', 'nine8', '33', 'onetwo', '1two', '2three', 'eight4', '3five', 'two8', '48', 'eight8', 'sixsix', '13', '47', '99', 'three5', 'four3', '3eight', 'six9', 'nine7', '88', 'five7', 'five2', '25', 'sevensix', '99', 'eight9', '86', 'eightone', 'eightthree', '53', 'onenine', 'five2', 'twonine', 'sevensix', 'one3', '4one', 'sixtwo', 'six6', 'two5', 'one7', 'two5', 'five6', '68', '2nine', 'sevenfour', 'ninesix', 'five7', '99', '7nine', '71', '33', '8four', '7three', '17', '5one', 'sixeight', '44', 'eightsix', 'sevensix', 'oneone', '95', '56', 'two2', '33', 'sixsix', '88', 'five9', 'nineone', 'seven9', '18', '27', 'nine7', 'fourseven', '1one', '34', '7nine', '4eight', '31', '77', '5three', '65', '26', 'six2', 'one7', 'five8', '66', '4four', 'one6', '93', '6one', 'eight5', '87', '92', 'nine1', '92', 'two2', 'seven2', 'one2', 'one4', 'eighttwo', 'eighteight', '36', '5five', 'nineseven', '15', 'twoseven', '8nine', '6one', '98', '2two', 'three9', '1one', '5two', 'two7', '99', '5one', '9nine', '6two', '66', '88', '3two', '4four', 'six1', 'sixfour', '16', '84', 'two3', 'seventwo', '35', 'seven7', 'two5', '11', '2eight', 'three9', 'onesix', 'twoone', 'two8', 'three1', '6one', 'nine7', '55', '65', '8three', '53', 'four6', 'eight2', 'twofour', '76', '11', 'five7', 'four5', '39', '77', 'fourfive', 'seven4', '38', 'one7', '71', '2three', 'four3', 'threeone', 'two1', '38', 'fourthree', '9three', 'four1', 'fourfive', '15', '1seven', 'five4', '34', '86', '6three', '72', '91', 'two7', 'four8', '22', 'twotwo', '4three', '11', '5two', '75', 'fivenine', '5eight', 'oneseven', 'sixnine', '6three', '55', '33', '1five', '45', 'five5', '7two', 'threethree', '44', '2seven', '99', 'eight1', 'nine7', 'twoone', 'nine5', '6eight', '22', '55', 'foureight', '66', '5nine', '55', '9two', '14', '63', 'six6', 'three9', 'twonine', '44', '64', 'two4', 'eight3', '8seven', 'four1', 'six1', '28', '71', 'five9', '5three', 'five8', '8five', 'eightfive', '5four', '11', 'two5', '77', '18', 'nine6', 'eight5', 'nineseven', '4six', '4eight', '9four', '3six', 'two7', '47', 'nine6', '21', 'eightnine', '55', '7six', '51', 'onefive', '54', '33', '9five', 'three3', 'threeone', 'eight2', 'sixfour', 'four7', 'seven3', 'six8', 'threefour', '3nine', 'sixseven', '8seven', '48', 'twoone', '59', 'six4', '33', 'two7', 'ninefive', '66', 'onetwo', '57', '32', '6eight', '78', 'eight2', '8four', 'nineone', 'three9', 'threetwo', '24', 'three3', 'onetwo', '18', '3one', '19', '1three', 'eighttwo', 'eighteight', 'threeone', 'two5', '4one', '5nine', 'two2', '8three', '22', 'five2', 'nine2', '4six', 'seven5', '31', '23', '55', '98', '32', '83', '72', '77', 'onethree', 'four8', '2nine', '34', 'one1', '64', '88', '7four', 'three6', '3seven', 'nine8', '88', '6seven', '2one', 'two9', '44', '27', '8eight', '8seven', '92', 'four3', 'fiveeight', '4one', 'sevensix', '99', 'nine4', '14', '63', '5eight', '3two', 'six9', '44', '77', 'three2', 'two3', '74', '92', '69', 'onenine', '6four', 'seventwo', '4eight', '68', '17', 'eight5', '6five', '19', '19', '5eight', 'seven9', 'three9', '3four', '3eight', '9one', '22', 'fiveeight', '8six', '29', 'eight2', 'one7', 'four4', 'eightsix', 'nine4', '3three', '4one', 'sevennine', '6three', 'one9', '1nine', '75', '4nine', '33', '21', '1two', 'five4', 'two8', '55', 'sevennine', '73', 'one4', '44', 'six7', '2two', 'four6', 'four4', 'seven2', '85', 'two5', '2eight', 'twofive', 'two6', 'one1', '9nine', '55', 'nine9', '8nine', 'sixone', 'sevennine', '53', 'onethree', 'three5', '4three', '16', '67', '1nine', '9four', 'fivefour', '8five', '4two', 'four1', '39', 'sixone', '26', '6four', '47', 'eightthree', 'sixfive', '12', '88', '3four', 'threetwo', '55', 'onetwo', 'nine6', '1three', '2two', '15', '53', '62', 'seven3', '2two', 'twonine', '4three', 'four6', 'sixseven', 'eight7', '2six', '6seven', '3four', '1four', '77', 'seven2', 'two1', '5five', '73', '75', '5nine', '26', 'nine5', 'nine4', 'four7', '55', '78', 'fiveseven', '9nine', 'seven2', '64', '4seven', 'nine1', 'sevennine', '86', '94', '11', 'eight3', '15', 'sixone', 'onesix', 'one8', '21', '44', 'seven4', '5one', 'four8', '4two', 'four1', '68', '53', 'threefive', 'sixthree', '99', '97', 'ninefive', 'two3', 'threeeight', 'two1', '19', 'threefive', '33', '75', '4eight', '6nine', '33', 'seven4', 'fourfour', 'seven8', 'eightfive', '36', 'six1', '71', '8four', '11', '18', '3one', '4seven', '92', 'two7', '76', 'twotwo', 'five3', 'seventhree', '78', '89', '51', 'eight9', '3one', '44', '1two', 'three3', '6one', 'three5', '8eight', 'nine5', '45', 'two8', '2seven', 'ninefive', '19', 'sixfive', '66', 'four4', 'eightsix', '4two', 'sixfive', 'foureight', 'five8', 'fivesix', 'twofive', 'eight7', 'one9', '68', '6seven', '96', '19', '63', 'four9', '6six', 'five9', 'six6', 'six5', '97', '5six', '8two', '9six', 'fourthree', '99', '7eight', '46', '7eight', 'nine4', 'twofive', '1four', 'eight4', 'seven1', 'twonine', '2two', 'three7', '44', 'two6', 'two3', '6five', '46', '3six', 'four6', '66', 'one7', 'three4', 'threenine', '33', 'threetwo', 'sixsix', 'ninethree', 'two3', '3six', 'fivesix', '7seven', '44', '8five', '31', '12', 'five3', '92', '5eight', '9seven', '2six', '4two', '57', 'ninethree', '3four', 'eight3', 'three1', '22', '9seven', '99', '41', '5six', 'eight6', '6four', 'three6', '7one', 'two7', '5six', 'three7', 'five8', 'three7', '2three', '33', '94', '29', 'seveneight', 'six6', 'three7', 'two7', 'sevenfive', 'one7', '66', '5three', '1five', '21', 'six8', 'three2', '93', 'six1', '4five', 'threefive', '77', 'seven1', '2one', '9eight', '57', 'fourone', '6four', '1eight', '36', '78', '4one', '28', '9two', '44', 'sixthree', '22', '43', '7two', '8eight', 'nine3', 'one6', 'eight6', 'one9', 'twofour', '88', 'five3', '4two', 'nine5', '52', '22']\n"
     ]
    }
   ],
   "source": [
    "file_path = 'AOC23 task1 part1.txt'\n",
    "c = 0 \n",
    "str_cal_val = ''\n",
    "calibration_value = ''\n",
    "char_list = []\n",
    "match_list = []\n",
    "int_list2 = []\n",
    "result = []\n",
    "with open(file_path, 'r') as file:\n",
    "    \n",
    "     for line in file:\n",
    "        \n",
    "        \n",
    "        match_list.append(process_and_update_string(line))\n",
    "        \n",
    "\n",
    "for elt in match_list:\n",
    "    int_list2.append(elt[0]+elt[len(elt)-1])\n",
    "\n"
   ]
  },
  {
   "cell_type": "code",
   "execution_count": 20,
   "id": "3084f6f8",
   "metadata": {},
   "outputs": [
    {
     "name": "stdout",
     "output_type": "stream",
     "text": [
      "8jzqzhrllg11ightfck\n"
     ]
    }
   ],
   "source": [
    "import re\n",
    "\n",
    "def turn_to_digits(input_str):\n",
    "    \n",
    "    word_to_digit = {\n",
    "        'one': '1',\n",
    "        'two': '2',\n",
    "        'three': '3',\n",
    "        'four': '4',\n",
    "        'five': '5',\n",
    "        'six': '6',\n",
    "        'seven': '7',\n",
    "        'eight': '8',\n",
    "        'nine': '9'\n",
    "    }\n",
    "\n",
    "   \n",
    "    regex = re.compile(r'(?:one|two|three|four|five|six|seven|eight|nine)', re.IGNORECASE)\n",
    "\n",
    " \n",
    "    def replace_word(match):\n",
    "        return word_to_digit.get(match.group(0).lower(), match.group(0))\n",
    "\n",
    "   \n",
    "    result = regex.sub(replace_word, input_str)\n",
    "    \n",
    "    return result\n",
    "\n",
    "# Example\n",
    "input_string = \"eightjzqzhrllg1oneightfck\"\n",
    "result = turn_to_digits(input_string)\n",
    "print(result)"
   ]
  },
  {
   "cell_type": "code",
   "execution_count": 21,
   "id": "03bc86a3",
   "metadata": {},
   "outputs": [],
   "source": [
    "new_list = []\n",
    "res_list = []\n",
    "for elt in int_list2:\n",
    "    new_list.append(turn_to_digits(elt)) \n",
    "\n",
    "for elt in new_list:\n",
    "    res_list.append(int(elt))"
   ]
  },
  {
   "cell_type": "code",
   "execution_count": 24,
   "id": "ec27639f",
   "metadata": {},
   "outputs": [
    {
     "data": {
      "text/plain": [
       "53268"
      ]
     },
     "execution_count": 24,
     "metadata": {},
     "output_type": "execute_result"
    }
   ],
   "source": [
    "sum(res_list)"
   ]
  },
  {
   "cell_type": "code",
   "execution_count": null,
   "id": "1be344a6",
   "metadata": {},
   "outputs": [],
   "source": []
  },
  {
   "cell_type": "code",
   "execution_count": null,
   "id": "825ce1d5",
   "metadata": {},
   "outputs": [],
   "source": []
  },
  {
   "cell_type": "code",
   "execution_count": null,
   "id": "95ac68b3",
   "metadata": {},
   "outputs": [],
   "source": []
  },
  {
   "cell_type": "code",
   "execution_count": null,
   "id": "a0b9ed50",
   "metadata": {},
   "outputs": [],
   "source": []
  },
  {
   "cell_type": "code",
   "execution_count": null,
   "id": "207ced1f",
   "metadata": {},
   "outputs": [],
   "source": []
  },
  {
   "cell_type": "code",
   "execution_count": null,
   "id": "fceda17b",
   "metadata": {},
   "outputs": [],
   "source": []
  },
  {
   "cell_type": "code",
   "execution_count": null,
   "id": "44fc8c8c",
   "metadata": {},
   "outputs": [],
   "source": []
  },
  {
   "cell_type": "code",
   "execution_count": null,
   "id": "4883ac19",
   "metadata": {},
   "outputs": [],
   "source": []
  },
  {
   "cell_type": "code",
   "execution_count": null,
   "id": "f92fc27a",
   "metadata": {},
   "outputs": [],
   "source": []
  },
  {
   "cell_type": "code",
   "execution_count": null,
   "id": "937ac410",
   "metadata": {},
   "outputs": [],
   "source": []
  },
  {
   "cell_type": "code",
   "execution_count": null,
   "id": "3fafad7e",
   "metadata": {},
   "outputs": [],
   "source": []
  },
  {
   "cell_type": "code",
   "execution_count": null,
   "id": "ce5536ad",
   "metadata": {},
   "outputs": [],
   "source": []
  },
  {
   "cell_type": "code",
   "execution_count": null,
   "id": "d09de886",
   "metadata": {},
   "outputs": [],
   "source": []
  }
 ],
 "metadata": {
  "kernelspec": {
   "display_name": "Python 3 (ipykernel)",
   "language": "python",
   "name": "python3"
  },
  "language_info": {
   "codemirror_mode": {
    "name": "ipython",
    "version": 3
   },
   "file_extension": ".py",
   "mimetype": "text/x-python",
   "name": "python",
   "nbconvert_exporter": "python",
   "pygments_lexer": "ipython3",
   "version": "3.9.13"
  }
 },
 "nbformat": 4,
 "nbformat_minor": 5
}
