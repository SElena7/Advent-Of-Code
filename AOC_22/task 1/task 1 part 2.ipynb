{
 "cells": [
  {
   "cell_type": "code",
   "execution_count": 2,
   "id": "7ef833c0",
   "metadata": {},
   "outputs": [],
   "source": [
    "file_path = 'advent-of-code-task1-2022.txt'\n",
    "total_sum = 0 \n",
    "sorted_list = []\n",
    "int_nums = []\n",
    "sums = []\n",
    "\n",
    "with open(file_path, 'r') as file:\n",
    "    # Read the file line by line\n",
    "    for line in file:\n",
    "        \n",
    "        if line.strip() == '':\n",
    "            int_nums.append(total_sum)\n",
    "            total_sum = 0 \n",
    "        else: \n",
    "            total_sum = total_sum + (int(line))\n",
    "              \n",
    "sorted_list = sorted(int_nums)\n",
    "print(sorted_list )\n"
   ]
  },
  {
   "cell_type": "code",
   "execution_count": null,
   "id": "b057d1cd",
   "metadata": {},
   "outputs": [],
   "source": []
  },
  {
   "cell_type": "code",
   "execution_count": null,
   "id": "d323a0c4",
   "metadata": {},
   "outputs": [],
   "source": []
  }
 ],
 "metadata": {
  "kernelspec": {
   "display_name": "Python 3 (ipykernel)",
   "language": "python",
   "name": "python3"
  },
  "language_info": {
   "codemirror_mode": {
    "name": "ipython",
    "version": 3
   },
   "file_extension": ".py",
   "mimetype": "text/x-python",
   "name": "python",
   "nbconvert_exporter": "python",
   "pygments_lexer": "ipython3",
   "version": "3.9.13"
  }
 },
 "nbformat": 4,
 "nbformat_minor": 5
}
